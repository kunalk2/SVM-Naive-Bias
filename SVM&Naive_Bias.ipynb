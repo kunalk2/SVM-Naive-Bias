{
  "nbformat": 4,
  "nbformat_minor": 0,
  "metadata": {
    "colab": {
      "provenance": []
    },
    "kernelspec": {
      "name": "python3",
      "display_name": "Python 3"
    },
    "language_info": {
      "name": "python"
    }
  },
  "cells": [
    {
      "cell_type": "code",
      "execution_count": 14,
      "metadata": {
        "id": "RtPubozHqCUK"
      },
      "outputs": [],
      "source": []
    },
    {
      "cell_type": "markdown",
      "source": [
        "Q1. What is a Support Vector Machine (SVM)?\n",
        "\n",
        "Ans. A Support Vector Machine (SVM) is a supervised machine learning algorithm used for both classification and regression tasks. However, it is more commonly used in classification problems. The core idea of SVM is to find the optimal hyperplane that best separates the data points of different classes in the feature space. This hyperplane is chosen to maximize the margin between the nearest points (support vectors) of different classes. If the data is not linearly separable, SVM can use a kernel trick to transform the input space into a higher-dimensional space where a linear separator may exist. SVMs are effective in high-dimensional spaces and are known for their robustness and good generalization performance.\n",
        "\n",
        "Q2. What is the difference between Hard Margin and Soft Margin SVM?\n",
        "\n",
        "Ans. Hard Margin SVM assumes that the data is linearly separable and aims to find a hyperplane that completely separates the classes without any misclassification. It doesn't allow any margin violations, meaning all data points must be correctly classified. However, in real-world scenarios, perfect separation is rare due to noise or overlapping classes. This is where Soft Margin SVM comes in—it allows some misclassifications by introducing slack variables and a regularization parameter (C) that controls the trade-off between maximizing the margin and minimizing classification error. Soft Margin is more practical and commonly used, especially when dealing with noisy or non-separable data.\n",
        "\n",
        "Q3. What is the mathematical intuition behind SVM?\n",
        "\n",
        "Ans. Mathematically, SVM tries to solve an optimization problem that finds the hyperplane\n",
        "W^t * x +b = 0 which separates the data with the largest possible margin. The margin is defined as the distance between the hyperplane and the nearest data points from each class (support vectors). The optimization objective is to minimize the vlue.\n",
        "\n",
        "This balance between maximizing margin and minimizing errors is key to SVM’s success.\n",
        "\n",
        "Q4. What is the role of Lagrange Multipliers in SVM?\n",
        "\n",
        "Ans. Lagrange Multipliers are used to solve the constrained optimization problem in SVM. In the primal form, SVM includes constraints to ensure correct classification of data points. To solve this, the method of Lagrange multipliers converts the constrained optimization problem into an unconstrained dual problem. The dual formulation involves only the inner products of feature vectors, allowing the use of kernel functions. Lagrange multipliers help identify the support vectors—those data points for which the multipliers are non-zero—and these are the critical points that define the optimal hyperplane. Thus, they simplify the computation and enable the kernel trick.\n",
        "\n",
        "Q5. What are Support Vectors in SVM?\n",
        "\n",
        "Ans. Support Vectors are the data points that lie closest to the decision boundary or hyperplane in an SVM. These points are the most difficult to classify and are critical in defining the position and orientation of the hyperplane. In the optimal solution, only support vectors have non-zero Lagrange multipliers and contribute to the construction of the decision function. Removing non-support vectors doesn't affect the model, which makes SVM memory-efficient. Support vectors essentially \"support\" or determine the margin of the classifier, hence the name.\n",
        "\n",
        "Q6. What is a Support Vector Classifier (SVC)?\n",
        "\n",
        "Ans. A Support Vector Classifier (SVC) is the implementation of Support Vector Machine used for classification tasks. It is designed to find the optimal separating hyperplane in a high-dimensional space that best divides data points of different classes. The SVC model tries to maximize the margin between the classes while allowing for some misclassifications in the case of soft margin SVM. In scikit-learn, sklearn.svm.SVC is used to train SVM classifiers with support for various kernel types such as linear, polynomial, and RBF, making it a flexible tool for both linear and non-linear classification problems.\n",
        "\n",
        "Q7. What is a Support Vector Regressor (SVR)?\n",
        "\n",
        "Ans. Support Vector Regressor (SVR) is the regression counterpart of the Support Vector Machine algorithm. Instead of finding a hyperplane that separates classes, SVR aims to find a function that deviates from the actual target values by a margin no more than ε (epsilon). It tries to fit the best line (or curve) that keeps as many data points as possible within the ε-tube around the function, penalizing deviations outside this tube. SVR also uses kernel tricks to perform non-linear regression. The objective is to balance the flatness of the regression function and the tolerance for error, which is managed using parameters like C and ε.\n",
        "\n",
        "Q8. What is the Kernel Trick in SVM?\n",
        "\n",
        "Ans. The Kernel Trick is a technique used in SVM to transform the original feature space into a higher-dimensional space without explicitly computing the transformation. This allows SVM to find a linear hyperplane in the new space, which corresponds to a non-linear decision boundary in the original space. The kernel function computes the inner product between two vectors in the transformed space directly.\n",
        "\n",
        "Compare Linear Kernel, Polynomial Kernel, and RBF Kernel.\n",
        "\n",
        "Ans.\n",
        "1. Linear Kernel: Used when the data is linearly separable. It is simple and fast but may underfit non-linear data.\n",
        "\n",
        "2. Polynomial Kernel: Captures interactions up to a certain degree. Suitable for moderately complex data.\n",
        "3. RBF Kernel: Most commonly used, especially for complex non-linear data. It maps inputs into an infinite-dimensional space.\n",
        "\n",
        "Comparison:\n",
        "\n",
        "* Linear: Fast, low complexity, good for high-dimensional sparse data.\n",
        "\n",
        "* Polynomial: Captures feature interactions, but may be slow and overfit.\n",
        "\n",
        "* RBF: High accuracy, good generalization, but needs careful tuning of γ.\n",
        "\n",
        "Q10. What is the effect of the C parameter in SVM?\n",
        "\n",
        "Ans.\n",
        "The C parameter in SVM controls the trade-off between maximizing the margin and minimizing the classification error. A small C value allows for a wider margin, even if it means more misclassifications—resulting in a simpler model with better generalization (less overfitting). A large C value tries to classify all training examples correctly by penalizing misclassifications more heavily, which may lead to a smaller margin and a model that overfits the training data. In short:\n",
        "\n",
        "* Low C → softer margin, more tolerance to misclassification\n",
        "\n",
        "* High C → stricter margin, less tolerance to misclassification\n",
        "\n",
        "Q11. What is the role of the Gamma parameter in RBF Kernel SVM?\n",
        "\n",
        "Ans.\n",
        "Gamma (γ) defines how far the influence of a single training example reaches in an RBF (Gaussian) kernel SVM. A small γ means each data point has a far-reaching influence, making the model more generalized. A large γ makes the influence narrow and localized, which can lead to overfitting. It controls the shape of the decision boundary:\n",
        "\n",
        "* Low γ → smoother, more generalized decision boundary\n",
        "\n",
        "* High γ → complex, possibly overfitting decision boundary\n",
        "\n",
        "Thus, tuning γ along with C is crucial to balance bias and variance in the model.\n",
        "\n",
        "Q12. What is the Naïve Bayes classifier, and why is it called \"Naïve\"?\n",
        "\n",
        "Ans.\n",
        "Naïve Bayes is a probabilistic classifier based on Bayes’ Theorem. It assumes that the features are conditionally independent given the class label, which simplifies computation. It calculates the posterior probability of each class given the input and selects the class with the highest probability. It is called \"naïve\" because of the unrealistic assumption that all features are independent, which is rarely true in real-world data. Despite this simplification, Naïve Bayes performs surprisingly well in many tasks, especially text classification and spam filtering.\n",
        "\n",
        "Q13. What is Bayes’ Theorem?\n",
        "\n",
        "Ans.\n",
        "Bayes’ Theorem describes the probability of an event, based on prior knowledge of conditions related to the event.\n",
        "P(A∣B)=P(B∣A)⋅P(A)/[P(B)].\n",
        "\n",
        "Where:\n",
        "\n",
        "\n",
        "P(A∣B) is the posterior probability of event A given B\n",
        "\n",
        "P(B∣A) is the likelihood\n",
        "\n",
        "P(A) is the prior probability of A\n",
        "\n",
        "P(B) is the evidence\n",
        "\n",
        "Q14. Explain the differences between Gaussian Naïve Bayes, Multinomial Naïve Bayes, and Bernoulli Naïve Bayes?\n",
        "\n",
        "Ans.\n",
        "These are three variants of the Naïve Bayes classifier, each suited to different data types:\n",
        "\n",
        "* Gaussian Naïve Bayes: Assumes that the features follow a normal (Gaussian) distribution. It’s best for continuous data like height, weight, or age. The likelihood of the features is calculated using the Gaussian probability density function.\n",
        "\n",
        "* Multinomial Naïve Bayes: Used for discrete data such as word counts or term frequencies in text. It models the frequency of words appearing in a document and is commonly used in natural language processing.\n",
        "\n",
        "* Bernoulli Naïve Bayes: Designed for binary/boolean f* eatures (0 or 1), such as whether a word appears in a document or not. It’s useful when only presence or absence of a feature matters.\n",
        "\n",
        "Each model uses Bayes’ theorem but differs in how it estimates the likelihoods based on the feature distributions.\n",
        "\n",
        "Q15. When should you use Gaussian Naïve Bayes over other variants?\n",
        "\n",
        "Ans.\n",
        "Gaussian Naïve Bayes should be used when the input features are continuous and approximately follow a normal distribution. For example, if you're dealing with datasets involving measurements like temperature, pressure, or physical dimensions, Gaussian NB is appropriate. It is not suitable for categorical or count-based features. If the data is not normally distributed, transformations (e.g., log, box-cox) may help improve performance. It is particularly useful when quick and interpretable classification is needed on continuous data.\n",
        "\n",
        "Q16. What are the key assumptions made by Naïve Bayes?\n",
        "\n",
        "Ans.\n",
        "Naïve Bayes makes the following core assumptions:\n",
        "\n",
        "1. Conditional Independence: All features are independent given the class label. This is a \"naïve\" assumption and rarely holds true in real-world data.\n",
        "\n",
        "2. Equal Contribution: Each feature contributes equally and independently to the final decision.\n",
        "\n",
        "3. Distributional Assumption: Based on the variant used:\n",
        "\n",
        "* Gaussian NB assumes features follow a normal distribution.\n",
        "\n",
        "* Multinomial NB assumes feature counts follow a multinomial distribution.\n",
        "\n",
        "* Bernoulli NB assumes features are binary.\n",
        "\n",
        "These assumptions simplify computation and make the algorithm fast and scalable, but they can limit accuracy when strong feature correlations exist.\n",
        "\n",
        "Q17. What are the advantages and disadvantages of Naïve Bayes?\n",
        "\n",
        "Ans.\n",
        "Advantages:\n",
        "\n",
        "* Simple and fast to implement\n",
        "\n",
        "* Works well with high-dimensional data\n",
        "\n",
        "* Performs well in text classification tasks\n",
        "\n",
        "* Requires less training data\n",
        "\n",
        "* Handles both binary and multiclass problems\n",
        "\n",
        "Disadvantages:\n",
        "\n",
        "* Assumes independence among features (rarely true)\n",
        "\n",
        "* May not perform well with highly correlated features\n",
        "\n",
        "* Estimations of probability can be skewed if feature distribution assumption is violated\n",
        "\n",
        "* Doesn’t capture interactions among features\n",
        "\n",
        "* Despite its simplicity, Naïve Bayes can be surprisingly effective in many practical applications.\n",
        "\n",
        "Q18. Why is Naïve Bayes a good choice for text classification?\n",
        "\n",
        "Ans.\n",
        "Naïve Bayes is well-suited for text classification due to the following reasons:\n",
        "\n",
        "* Text data is high-dimensional, and Naïve Bayes handles large feature spaces efficiently.\n",
        "\n",
        "* Bag-of-Words or TF-IDF models represent documents as independent word counts or frequencies, which aligns well with the independence assumption.\n",
        "\n",
        "* Fast training and prediction, even with large datasets.\n",
        "\n",
        "* Performs well in applications like spam filtering, sentiment analysis, and document categorization.\n",
        "\n",
        "* It is robust to irrelevant features, which is useful in noisy textual data.\n",
        "\n",
        "* Despite the independence assumption not strictly holding in text, the algorithm still provides strong performance in practice.\n",
        "\n",
        "Q19. Compare SVM and Naïve Bayes for classification tasks?\n",
        "\n",
        "Ans.\n",
        "Support Vector Machine (SVM) and Naïve Bayes are both popular supervised learning algorithms used for classification, but they differ significantly in their approach and characteristics.\n",
        "\n",
        "SVM is a discriminative model that focuses on finding the optimal hyperplane that best separates the classes by maximizing the margin between data points of different classes. It is particularly effective in high-dimensional spaces and can handle both linear and non-linear classification problems using kernel functions. SVM requires feature scaling and is computationally more intensive, especially with non-linear kernels. It usually delivers high accuracy when well-tuned and is robust to overfitting, especially with appropriate regularization.\n",
        "\n",
        "Naïve Bayes, on the other hand, is a generative model that uses Bayes’ Theorem and assumes that features are conditionally independent given the class label. This assumption simplifies the model and allows for very fast training and prediction. Naïve Bayes performs exceptionally well on text classification problems, where the independence assumption is relatively acceptable. It is less complex and requires less data for training but may not perform well when features are highly correlated or the assumptions are violated.\n",
        "\n",
        "Q20. How does Laplace Smoothing help in Naïve Bayes?\n",
        "\n",
        "Ans.\n",
        "Laplace Smoothing (also called Add-1 smoothing) helps prevent zero probability issues in Naïve Bayes. When a categorical feature value doesn't appear in the training data for a given class, the probability becomes zero, which can nullify the entire product of probabilities. Laplace smoothing solves this by adding 1 to all feature counts, ensuring that no probability is ever exactly zero:\n",
        "P(x i∣y)= count(x i,y)+1 /[count(y)+k]\n",
        "\n",
        "\n",
        "\n",
        "\n",
        "\n"
      ],
      "metadata": {
        "id": "mn60oln4ql7R"
      }
    },
    {
      "cell_type": "code",
      "source": [
        "#Q21. Write a Python program to train an SVM Classifier on the Iris dataset and evaluate accuracy\n",
        "\n",
        "from sklearn import datasets\n",
        "from sklearn.model_selection import train_test_split\n",
        "from sklearn.svm import SVC\n",
        "from sklearn.metrics import accuracy_score\n",
        "\n",
        "# Load Iris dataset\n",
        "iris = datasets.load_iris()\n",
        "X = iris.data\n",
        "y = iris.target\n",
        "\n",
        "# Split into train and test sets\n",
        "X_train, X_test, y_train, y_test = train_test_split(X, y, test_size=0.2, random_state=42)\n",
        "\n",
        "# Train SVM Classifier\n",
        "model = SVC(kernel='linear')\n",
        "model.fit(X_train, y_train)\n",
        "\n",
        "# Predict and evaluate accuracy\n",
        "y_pred = model.predict(X_test)\n",
        "accuracy = accuracy_score(y_test, y_pred)\n",
        "print(f\"Accuracy: {accuracy:.2f}\")"
      ],
      "metadata": {
        "colab": {
          "base_uri": "https://localhost:8080/"
        },
        "id": "uESVE3povAC4",
        "outputId": "15675c5e-b22d-4875-a8d5-c5f0d0b91f2b"
      },
      "execution_count": 15,
      "outputs": [
        {
          "output_type": "stream",
          "name": "stdout",
          "text": [
            "Accuracy: 1.00\n"
          ]
        }
      ]
    },
    {
      "cell_type": "code",
      "source": [
        "#Q22. Write a Python program to train two SVM classifiers with Linear and RBF kernels on the Wine dataset, then compare their accuracies\n",
        "\n",
        "from sklearn.datasets import load_wine\n",
        "from sklearn.model_selection import train_test_split\n",
        "from sklearn.svm import SVC\n",
        "from sklearn.metrics import accuracy_score\n",
        "\n",
        "# Load Wine dataset\n",
        "wine = load_wine()\n",
        "X = wine.data\n",
        "y = wine.target\n",
        "\n",
        "# Train-test split\n",
        "X_train, X_test, y_train, y_test = train_test_split(X, y, test_size=0.2, random_state=42)\n",
        "\n",
        "# Train Linear SVM\n",
        "linear_svm = SVC(kernel='linear')\n",
        "linear_svm.fit(X_train, y_train)\n",
        "linear_accuracy = accuracy_score(y_test, linear_svm.predict(X_test))\n",
        "\n",
        "# Train RBF SVM\n",
        "rbf_svm = SVC(kernel='rbf')\n",
        "rbf_svm.fit(X_train, y_train)\n",
        "rbf_accuracy = accuracy_score(y_test, rbf_svm.predict(X_test))\n",
        "\n",
        "print(f\"Linear Kernel Accuracy: {linear_accuracy:.2f}\")\n",
        "print(f\"RBF Kernel Accuracy: {rbf_accuracy:.2f}\")"
      ],
      "metadata": {
        "colab": {
          "base_uri": "https://localhost:8080/"
        },
        "id": "lB1-YjxjvHHI",
        "outputId": "f4e44cc2-9f61-449b-8614-6fc4d79c5db0"
      },
      "execution_count": 16,
      "outputs": [
        {
          "output_type": "stream",
          "name": "stdout",
          "text": [
            "Linear Kernel Accuracy: 1.00\n",
            "RBF Kernel Accuracy: 0.81\n"
          ]
        }
      ]
    },
    {
      "cell_type": "code",
      "source": [
        "#Q23. Write a Python program to train an SVM Regressor (SVR) on a housing dataset and evaluate it using Mean Squared Error (MSE)\n",
        "from sklearn.datasets import fetch_california_housing\n",
        "from sklearn.model_selection import train_test_split\n",
        "from sklearn.svm import SVR\n",
        "from sklearn.metrics import mean_squared_error\n",
        "\n",
        "# Load housing dataset\n",
        "housing = fetch_california_housing()\n",
        "X = housing.data\n",
        "y = housing.target\n",
        "\n",
        "# Split data\n",
        "X_train, X_test, y_train, y_test = train_test_split(X, y, test_size=0.2, random_state=42)\n",
        "\n",
        "# Train SVR\n",
        "svr = SVR(kernel='rbf')\n",
        "svr.fit(X_train, y_train)\n",
        "\n",
        "# Predict and evaluate\n",
        "y_pred = svr.predict(X_test)\n",
        "mse = mean_squared_error(y_test, y_pred)\n",
        "print(f\"Mean Squared Error: {mse:.2f}\")"
      ],
      "metadata": {
        "colab": {
          "base_uri": "https://localhost:8080/"
        },
        "id": "ZE3QcDi3vZVa",
        "outputId": "02ddc7be-bdcd-47c6-84f2-08bffd663052"
      },
      "execution_count": 17,
      "outputs": [
        {
          "output_type": "stream",
          "name": "stdout",
          "text": [
            "Mean Squared Error: 1.33\n"
          ]
        }
      ]
    },
    {
      "cell_type": "code",
      "source": [
        "#Q24. Write a Python program to train an SVM Classifier with a Polynomial Kernel and visualize the decision boundary\n",
        "import numpy as np\n",
        "import matplotlib.pyplot as plt\n",
        "from sklearn import datasets\n",
        "from sklearn.svm import SVC\n",
        "from sklearn.preprocessing import StandardScaler\n",
        "\n",
        "# Load dataset with 2 features for visualization\n",
        "X, y = datasets.make_moons(n_samples=100, noise=0.1, random_state=42)\n",
        "scaler = StandardScaler()\n",
        "X = scaler.fit_transform(X)\n",
        "\n",
        "# Train SVM with polynomial kernel\n",
        "model = SVC(kernel='poly', degree=3)\n",
        "model.fit(X, y)\n",
        "\n",
        "# Plot decision boundary\n",
        "def plot_decision_boundary(model, X, y):\n",
        "    h = 0.02\n",
        "    x_min, x_max = X[:, 0].min() - 1, X[:, 0].max() + 1\n",
        "    y_min, y_max = X[:, 1].min() - 1, X[:, 1].max() + 1\n",
        "    xx, yy = np.meshgrid(np.arange(x_min, x_max, h), np.arange(y_min, y_max, h))\n",
        "    Z = model.predict(np.c_[xx.ravel(), yy.ravel()])\n",
        "    Z = Z.reshape(xx.shape)\n",
        "\n",
        "    plt.contourf(xx, yy, Z, alpha=0.3)\n",
        "    plt.scatter(X[:, 0], X[:, 1], c=y, edgecolors='k')\n",
        "    plt.title(\"SVM with Polynomial Kernel\")\n",
        "    plt.show()\n",
        "\n",
        "plot_decision_boundary(model, X, y)"
      ],
      "metadata": {
        "colab": {
          "base_uri": "https://localhost:8080/",
          "height": 452
        },
        "id": "KdO4UReOvaBM",
        "outputId": "8d8fe206-05b2-4cc4-9de6-a3ad43ee3454"
      },
      "execution_count": 18,
      "outputs": [
        {
          "output_type": "display_data",
          "data": {
            "text/plain": [
              "<Figure size 640x480 with 1 Axes>"
            ],
            "image/png": "[encoded data removed]"
          },
          "metadata": {}
        }
      ]
    },
    {
      "cell_type": "code",
      "source": [
        "#Q25. Write a Python program to train a Gaussian Naïve Bayes classifier on the Breast Cancer dataset and evaluate accuracy\n",
        "from sklearn.datasets import load_breast_cancer\n",
        "from sklearn.model_selection import train_test_split\n",
        "from sklearn.naive_bayes import GaussianNB\n",
        "from sklearn.metrics import accuracy_score\n",
        "\n",
        "# Load Breast Cancer dataset\n",
        "data = load_breast_cancer()\n",
        "X = data.data\n",
        "y = data.target\n",
        "\n",
        "# Split dataset\n",
        "X_train, X_test, y_train, y_test = train_test_split(X, y, test_size=0.2, random_state=42)\n",
        "\n",
        "# Train Gaussian Naive Bayes\n",
        "gnb = GaussianNB()\n",
        "gnb.fit(X_train, y_train)\n",
        "\n",
        "# Predict and evaluate\n",
        "y_pred = gnb.predict(X_test)\n",
        "accuracy = accuracy_score(y_test, y_pred)\n",
        "print(f\"Accuracy: {accuracy:.2f}\")\n"
      ],
      "metadata": {
        "colab": {
          "base_uri": "https://localhost:8080/"
        },
        "id": "sF-AChNLvaK9",
        "outputId": "e7bec403-5407-4a18-b18b-2030842a8cf5"
      },
      "execution_count": 19,
      "outputs": [
        {
          "output_type": "stream",
          "name": "stdout",
          "text": [
            "Accuracy: 0.97\n"
          ]
        }
      ]
    },
    {
      "cell_type": "code",
      "source": [
        "#Q26. Write a Python program to train a Multinomial Naïve Bayes classifier for text classification using the 20 Newsgroups dataset\n",
        "from sklearn.datasets import fetch_20newsgroups\n",
        "from sklearn.feature_extraction.text import CountVectorizer\n",
        "from sklearn.naive_bayes import MultinomialNB\n",
        "from sklearn.model_selection import train_test_split\n",
        "from sklearn.metrics import accuracy_score\n",
        "\n",
        "# Load dataset\n",
        "newsgroups = fetch_20newsgroups(subset='all', shuffle=True, random_state=42)\n",
        "X, y = newsgroups.data, newsgroups.target\n",
        "\n",
        "# Convert text to features\n",
        "vectorizer = CountVectorizer()\n",
        "X_vectorized = vectorizer.fit_transform(X)\n",
        "\n",
        "# Train-test split\n",
        "X_train, X_test, y_train, y_test = train_test_split(X_vectorized, y, test_size=0.2, random_state=42)\n",
        "\n",
        "# Train Multinomial Naive Bayes\n",
        "model = MultinomialNB()\n",
        "model.fit(X_train, y_train)\n",
        "\n",
        "# Predict and evaluate\n",
        "y_pred = model.predict(X_test)\n",
        "print(f\"Accuracy: {accuracy_score(y_test, y_pred):.2f}\")\n"
      ],
      "metadata": {
        "colab": {
          "base_uri": "https://localhost:8080/"
        },
        "id": "Gl_u21bcvaUk",
        "outputId": "75191f45-66a8-4be0-d284-c7d78450e31c"
      },
      "execution_count": 20,
      "outputs": [
        {
          "output_type": "stream",
          "name": "stdout",
          "text": [
            "Accuracy: 0.85\n"
          ]
        }
      ]
    },
    {
      "cell_type": "code",
      "source": [
        "#Q27. Write a Python program to train an SVM Classifier with different C values and compare the decision boundaries visually\n",
        "import matplotlib.pyplot as plt\n",
        "import numpy as np\n",
        "from sklearn.datasets import make_classification\n",
        "from sklearn.svm import SVC\n",
        "\n",
        "# Generate synthetic data\n",
        "X, y = make_classification(n_samples=100, n_features=2, n_redundant=0, n_clusters_per_class=1, random_state=42)\n",
        "\n",
        "# Function to plot decision boundaries\n",
        "def plot_svm(C):\n",
        "    clf = SVC(kernel='linear', C=C)\n",
        "    clf.fit(X, y)\n",
        "\n",
        "    plt.figure()\n",
        "    plt.title(f\"SVM with C = {C}\")\n",
        "    ax = plt.gca()\n",
        "    xlim = ax.get_xlim()\n",
        "    ylim = ax.get_ylim()\n",
        "\n",
        "    xx, yy = np.meshgrid(np.linspace(xlim[0], xlim[1], 200),\n",
        "                         np.linspace(ylim[0], ylim[1], 200))\n",
        "    Z = clf.decision_function(np.c_[xx.ravel(), yy.ravel()])\n",
        "    Z = Z.reshape(xx.shape)\n",
        "\n",
        "    ax.contourf(xx, yy, Z, levels=[-1, 0, 1], alpha=0.2, colors=['red', 'black', 'blue'])\n",
        "    ax.scatter(X[:, 0], X[:, 1], c=y, cmap=plt.cm.coolwarm, edgecolors='k')\n",
        "    plt.show()\n",
        "\n",
        "for c in [0.1, 1, 10]:\n",
        "    plot_svm(c)\n"
      ],
      "metadata": {
        "colab": {
          "base_uri": "https://localhost:8080/",
          "height": 1000
        },
        "id": "nHwebBPwvael",
        "outputId": "8b09cb8e-8eb4-41c8-9282-d706183f5a23"
      },
      "execution_count": 21,
      "outputs": [
        {
          "output_type": "display_data",
          "data": {
            "text/plain": [
              "<Figure size 640x480 with 1 Axes>"
            ],
            "image/png": "[encoded data removed]"
          },
          "metadata": {}
        },
        {
          "output_type": "display_data",
          "data": {
            "text/plain": [
              "<Figure size 640x480 with 1 Axes>"
            ],
            "image/png": "[encoded data removed]"
          },
          "metadata": {}
        },
        {
          "output_type": "display_data",
          "data": {
            "text/plain": [
              "<Figure size 640x480 with 1 Axes>"
            ],
            "image/png": "[encoded data removed]"
          },
          "metadata": {}
        }
      ]
    },
    {
      "cell_type": "code",
      "source": [
        "#Q28. Write a Python program to train a Bernoulli Naïve Bayes classifier for binary classification on a dataset with binary features\n",
        "from sklearn.naive_bayes import BernoulliNB\n",
        "from sklearn.datasets import make_classification\n",
        "from sklearn.model_selection import train_test_split\n",
        "from sklearn.metrics import accuracy_score\n",
        "\n",
        "# Create binary dataset\n",
        "X, y = make_classification(n_samples=1000, n_features=20, n_informative=15, random_state=42)\n",
        "X_binary = (X > 0).astype(int)\n",
        "\n",
        "# Split dataset\n",
        "X_train, X_test, y_train, y_test = train_test_split(X_binary, y, test_size=0.2, random_state=42)\n",
        "\n",
        "# Train Bernoulli Naive Bayes\n",
        "bnb = BernoulliNB()\n",
        "bnb.fit(X_train, y_train)\n",
        "\n",
        "# Predict and evaluate\n",
        "y_pred = bnb.predict(X_test)\n",
        "print(f\"Accuracy: {accuracy_score(y_test, y_pred):.2f}\")\n"
      ],
      "metadata": {
        "colab": {
          "base_uri": "https://localhost:8080/"
        },
        "id": "YyvFlIG3vaob",
        "outputId": "908a0885-9373-4a4b-cc37-5222d8c0447e"
      },
      "execution_count": 22,
      "outputs": [
        {
          "output_type": "stream",
          "name": "stdout",
          "text": [
            "Accuracy: 0.78\n"
          ]
        }
      ]
    },
    {
      "cell_type": "code",
      "source": [
        "#Q29. Write a Python program to apply feature scaling before training an SVM model and compare results with unscaled data\n",
        "from sklearn.preprocessing import StandardScaler\n",
        "from sklearn.datasets import load_wine\n",
        "from sklearn.svm import SVC\n",
        "from sklearn.model_selection import train_test_split\n",
        "from sklearn.metrics import accuracy_score\n",
        "\n",
        "# Load data\n",
        "data = load_wine()\n",
        "X = data.data\n",
        "y = data.target\n",
        "\n",
        "# Train-test split\n",
        "X_train, X_test, y_train, y_test = train_test_split(X, y, test_size=0.2, random_state=42)\n",
        "\n",
        "# Train without scaling\n",
        "model1 = SVC()\n",
        "model1.fit(X_train, y_train)\n",
        "acc_unscaled = accuracy_score(y_test, model1.predict(X_test))\n",
        "\n",
        "# Scale data\n",
        "scaler = StandardScaler()\n",
        "X_train_scaled = scaler.fit_transform(X_train)\n",
        "X_test_scaled = scaler.transform(X_test)\n",
        "\n",
        "# Train with scaling\n",
        "model2 = SVC()\n",
        "model2.fit(X_train_scaled, y_train)\n",
        "acc_scaled = accuracy_score(y_test, model2.predict(X_test_scaled))\n",
        "\n",
        "print(f\"Accuracy without scaling: {acc_unscaled:.2f}\")\n",
        "print(f\"Accuracy with scaling: {acc_scaled:.2f}\")\n"
      ],
      "metadata": {
        "colab": {
          "base_uri": "https://localhost:8080/"
        },
        "id": "GaLa18Igvaxk",
        "outputId": "c9af5639-81e0-4264-d77f-83fa8c448727"
      },
      "execution_count": 23,
      "outputs": [
        {
          "output_type": "stream",
          "name": "stdout",
          "text": [
            "Accuracy without scaling: 0.81\n",
            "Accuracy with scaling: 1.00\n"
          ]
        }
      ]
    },
    {
      "cell_type": "code",
      "source": [
        "#Q30. Write a Python program to train a Gaussian Naïve Bayes model and compare the predictions before and after Laplace Smoothing\n",
        "from sklearn.naive_bayes import GaussianNB\n",
        "from sklearn.datasets import load_iris\n",
        "from sklearn.model_selection import train_test_split\n",
        "from sklearn.metrics import accuracy_score\n",
        "\n",
        "# Load dataset\n",
        "iris = load_iris()\n",
        "X = iris.data\n",
        "y = iris.target\n",
        "\n",
        "# Split data\n",
        "X_train, X_test, y_train, y_test = train_test_split(X, y, test_size=0.3, random_state=42)\n",
        "\n",
        "# GaussianNB (no explicit Laplace smoothing, but simulated here for awareness)\n",
        "model = GaussianNB()\n",
        "model.fit(X_train, y_train)\n",
        "y_pred = model.predict(X_test)\n",
        "accuracy = accuracy_score(y_test, y_pred)\n",
        "\n",
        "print(f\"Accuracy with default GaussianNB: {accuracy:.2f}\")\n",
        "print(\"Note: Laplace smoothing is primarily used in Multinomial and Bernoulli NB, not Gaussian.\")\n"
      ],
      "metadata": {
        "colab": {
          "base_uri": "https://localhost:8080/"
        },
        "id": "R9wJPB9Lva6i",
        "outputId": "b48afd5c-a341-4f76-ad89-a8927a742658"
      },
      "execution_count": 24,
      "outputs": [
        {
          "output_type": "stream",
          "name": "stdout",
          "text": [
            "Accuracy with default GaussianNB: 0.98\n",
            "Note: Laplace smoothing is primarily used in Multinomial and Bernoulli NB, not Gaussian.\n"
          ]
        }
      ]
    },
    {
      "cell_type": "code",
      "source": [
        "#Q31. Write a Python program to train an SVM Classifier and use GridSearchCV to tune the hyperparameters (C, gamma, kernel)\n",
        "from sklearn.model_selection import GridSearchCV\n",
        "from sklearn.svm import SVC\n",
        "from sklearn.datasets import load_digits\n",
        "from sklearn.model_selection import train_test_split\n",
        "\n",
        "# Load data\n",
        "X, y = load_digits(return_X_y=True)\n",
        "\n",
        "# Split data\n",
        "X_train, X_test, y_train, y_test = train_test_split(X, y, random_state=42)\n",
        "\n",
        "# Parameter grid\n",
        "param_grid = {\n",
        "    'C': [0.1, 1, 10],\n",
        "    'gamma': ['scale', 0.01, 0.1],\n",
        "    'kernel': ['linear', 'rbf']\n",
        "}\n",
        "\n",
        "# Grid search\n",
        "grid = GridSearchCV(SVC(), param_grid, cv=5)\n",
        "grid.fit(X_train, y_train)\n",
        "\n",
        "print(f\"Best parameters: {grid.best_params_}\")\n",
        "print(f\"Best cross-validation score: {grid.best_score_:.2f}\")\n"
      ],
      "metadata": {
        "colab": {
          "base_uri": "https://localhost:8080/"
        },
        "id": "1HwM1Il7vbDV",
        "outputId": "6bc84ee3-46d0-4f3d-dd72-12588a3de152"
      },
      "execution_count": 25,
      "outputs": [
        {
          "output_type": "stream",
          "name": "stdout",
          "text": [
            "Best parameters: {'C': 10, 'gamma': 'scale', 'kernel': 'rbf'}\n",
            "Best cross-validation score: 0.99\n"
          ]
        }
      ]
    },
    {
      "cell_type": "code",
      "source": [
        "#Q32. Write a Python program to train an SVM Classifier on an imbalanced dataset and apply class weighting and check it improve accuracy\n",
        "from sklearn.datasets import make_classification\n",
        "from sklearn.model_selection import train_test_split\n",
        "from sklearn.svm import SVC\n",
        "from sklearn.metrics import accuracy_score\n",
        "\n",
        "# Imbalanced data\n",
        "X, y = make_classification(n_samples=1000, weights=[0.9, 0.1], n_features=20, random_state=42)\n",
        "\n",
        "X_train, X_test, y_train, y_test = train_test_split(X, y, test_size=0.2, random_state=42)\n",
        "\n",
        "# Without class weight\n",
        "clf1 = SVC()\n",
        "clf1.fit(X_train, y_train)\n",
        "acc1 = accuracy_score(y_test, clf1.predict(X_test))\n",
        "\n",
        "# With class weight\n",
        "clf2 = SVC(class_weight='balanced')\n",
        "clf2.fit(X_train, y_train)\n",
        "acc2 = accuracy_score(y_test, clf2.predict(X_test))\n",
        "\n",
        "print(f\"Accuracy without class weight: {acc1:.2f}\")\n",
        "print(f\"Accuracy with class weight: {acc2:.2f}\")\n"
      ],
      "metadata": {
        "colab": {
          "base_uri": "https://localhost:8080/"
        },
        "id": "3w3YB2U3vbM7",
        "outputId": "4828b1c1-11e1-4d9d-e6db-ccf55cfe6eb6"
      },
      "execution_count": 26,
      "outputs": [
        {
          "output_type": "stream",
          "name": "stdout",
          "text": [
            "Accuracy without class weight: 0.90\n",
            "Accuracy with class weight: 0.90\n"
          ]
        }
      ]
    },
    {
      "cell_type": "code",
      "source": [
        "#Q33. Write a Python program to implement a Naïve Bayes classifier for spam detection using email data\n",
        "from sklearn.feature_extraction.text import CountVectorizer\n",
        "from sklearn.naive_bayes import MultinomialNB\n",
        "from sklearn.model_selection import train_test_split\n",
        "from sklearn.metrics import accuracy_score\n",
        "\n",
        "# Sample data\n",
        "emails = [\"Buy now\", \"Limited time offer\", \"Important meeting today\", \"Win cash now\", \"Your invoice is attached\", \"Urgent loan approval\"]\n",
        "labels = [1, 1, 0, 1, 0, 1]  # 1: spam, 0: not spam\n",
        "\n",
        "# Vectorize\n",
        "vectorizer = CountVectorizer()\n",
        "X = vectorizer.fit_transform(emails)\n",
        "\n",
        "# Train-test split\n",
        "X_train, X_test, y_train, y_test = train_test_split(X, labels, test_size=0.3, random_state=42)\n",
        "\n",
        "# Train model\n",
        "model = MultinomialNB()\n",
        "model.fit(X_train, y_train)\n",
        "\n",
        "# Predict and evaluate\n",
        "y_pred = model.predict(X_test)\n",
        "print(f\"Accuracy: {accuracy_score(y_test, y_pred):.2f}\")\n"
      ],
      "metadata": {
        "colab": {
          "base_uri": "https://localhost:8080/"
        },
        "id": "-H0mWw4qvbXj",
        "outputId": "b6c42fe5-831e-44d3-9d09-f65f79f10da3"
      },
      "execution_count": 27,
      "outputs": [
        {
          "output_type": "stream",
          "name": "stdout",
          "text": [
            "Accuracy: 1.00\n"
          ]
        }
      ]
    },
    {
      "cell_type": "code",
      "source": [
        "#Q34. Write a Python program to train an SVM Classifier and a Naïve Bayes Classifier on the same dataset and compare their accuracy\n",
        "from sklearn.datasets import load_iris\n",
        "from sklearn.model_selection import train_test_split\n",
        "from sklearn.svm import SVC\n",
        "from sklearn.naive_bayes import GaussianNB\n",
        "from sklearn.metrics import accuracy_score\n",
        "\n",
        "# Load data\n",
        "X, y = load_iris(return_X_y=True)\n",
        "\n",
        "# Split\n",
        "X_train, X_test, y_train, y_test = train_test_split(X, y, test_size=0.3, random_state=42)\n",
        "\n",
        "# SVM\n",
        "svm = SVC()\n",
        "svm.fit(X_train, y_train)\n",
        "svm_acc = accuracy_score(y_test, svm.predict(X_test))\n",
        "\n",
        "# Naive Bayes\n",
        "nb = GaussianNB()\n",
        "nb.fit(X_train, y_train)\n",
        "nb_acc = accuracy_score(y_test, nb.predict(X_test))\n",
        "\n",
        "print(f\"SVM Accuracy: {svm_acc:.2f}\")\n",
        "print(f\"Naive Bayes Accuracy: {nb_acc:.2f}\")\n"
      ],
      "metadata": {
        "colab": {
          "base_uri": "https://localhost:8080/"
        },
        "id": "TvsYll5pwMsA",
        "outputId": "c5d77c76-188c-4f73-cf4e-4fcd1474e678"
      },
      "execution_count": 28,
      "outputs": [
        {
          "output_type": "stream",
          "name": "stdout",
          "text": [
            "SVM Accuracy: 1.00\n",
            "Naive Bayes Accuracy: 0.98\n"
          ]
        }
      ]
    },
    {
      "cell_type": "code",
      "source": [
        "#Q35. Write a Python program to perform feature selection before training a Naïve Bayes classifier and compare results\n",
        "from sklearn.feature_selection import SelectKBest, chi2\n",
        "from sklearn.naive_bayes import MultinomialNB\n",
        "from sklearn.datasets import fetch_20newsgroups\n",
        "from sklearn.feature_extraction.text import CountVectorizer\n",
        "from sklearn.model_selection import train_test_split\n",
        "from sklearn.metrics import accuracy_score\n",
        "\n",
        "# Load and vectorize text data\n",
        "data = fetch_20newsgroups(subset='train')\n",
        "X_text, y = data.data, data.target\n",
        "vectorizer = CountVectorizer()\n",
        "X = vectorizer.fit_transform(X_text)\n",
        "\n",
        "# Feature selection\n",
        "X_selected = SelectKBest(chi2, k=1000).fit_transform(X, y)\n",
        "\n",
        "# Split\n",
        "X_train, X_test, y_train, y_test = train_test_split(X_selected, y, test_size=0.2, random_state=42)\n",
        "\n",
        "# Train and evaluate\n",
        "model = MultinomialNB()\n",
        "model.fit(X_train, y_train)\n",
        "y_pred = model.predict(X_test)\n",
        "print(f\"Accuracy with feature selection: {accuracy_score(y_test, y_pred):.2f}\")\n"
      ],
      "metadata": {
        "colab": {
          "base_uri": "https://localhost:8080/"
        },
        "id": "ANSG2xWSwM2g",
        "outputId": "370f2628-922d-49c9-cf6d-b658a96a1c7d"
      },
      "execution_count": 29,
      "outputs": [
        {
          "output_type": "stream",
          "name": "stdout",
          "text": [
            "Accuracy with feature selection: 0.76\n"
          ]
        }
      ]
    },
    {
      "cell_type": "code",
      "source": [
        "#Q36. Write a Python program to train an SVM Classifier using One-vs-Rest (OvR) and One-vs-One (OvO) strategies on the Wine dataset and compare their accuracy\n",
        "from sklearn.datasets import load_wine\n",
        "from sklearn.model_selection import train_test_split\n",
        "from sklearn.multiclass import OneVsRestClassifier, OneVsOneClassifier\n",
        "from sklearn.svm import SVC\n",
        "from sklearn.metrics import accuracy_score\n",
        "\n",
        "# Load data\n",
        "X, y = load_wine(return_X_y=True)\n",
        "\n",
        "# Split\n",
        "X_train, X_test, y_train, y_test = train_test_split(X, y, random_state=42)\n",
        "\n",
        "# OvR\n",
        "ovr = OneVsRestClassifier(SVC())\n",
        "ovr.fit(X_train, y_train)\n",
        "acc_ovr = accuracy_score(y_test, ovr.predict(X_test))\n",
        "\n",
        "# OvO\n",
        "ovo = OneVsOneClassifier(SVC())\n",
        "ovo.fit(X_train, y_train)\n",
        "acc_ovo = accuracy_score(y_test, ovo.predict(X_test))\n",
        "\n",
        "print(f\"OvR Accuracy: {acc_ovr:.2f}\")\n",
        "print(f\"OvO Accuracy: {acc_ovo:.2f}\")\n"
      ],
      "metadata": {
        "colab": {
          "base_uri": "https://localhost:8080/"
        },
        "id": "ntf7fWavwN3G",
        "outputId": "df4a31ea-1334-4d0c-9d4b-b40b94e38a50"
      },
      "execution_count": 30,
      "outputs": [
        {
          "output_type": "stream",
          "name": "stdout",
          "text": [
            "OvR Accuracy: 0.71\n",
            "OvO Accuracy: 0.78\n"
          ]
        }
      ]
    },
    {
      "cell_type": "code",
      "source": [
        "#Q37. Write a Python program to train an SVM Classifier using Linear, Polynomial, and RBF kernels on the Breast Cancer dataset and compare their accuracy\n",
        "from sklearn.datasets import load_breast_cancer\n",
        "from sklearn.model_selection import train_test_split\n",
        "from sklearn.svm import SVC\n",
        "from sklearn.metrics import accuracy_score\n",
        "\n",
        "# Load data\n",
        "X, y = load_breast_cancer(return_X_y=True)\n",
        "\n",
        "# Split\n",
        "X_train, X_test, y_train, y_test = train_test_split(X, y, random_state=42)\n",
        "\n",
        "# Kernels\n",
        "kernels = ['linear', 'poly', 'rbf']\n",
        "for kernel in kernels:\n",
        "    clf = SVC(kernel=kernel)\n",
        "    clf.fit(X_train, y_train)\n",
        "    acc = accuracy_score(y_test, clf.predict(X_test))\n",
        "    print(f\"{kernel.capitalize()} Kernel Accuracy: {acc:.2f}\")\n"
      ],
      "metadata": {
        "colab": {
          "base_uri": "https://localhost:8080/"
        },
        "id": "Rfcl8k_LwOBW",
        "outputId": "4ae33faa-c208-442c-80e7-22cb23015243"
      },
      "execution_count": 31,
      "outputs": [
        {
          "output_type": "stream",
          "name": "stdout",
          "text": [
            "Linear Kernel Accuracy: 0.96\n",
            "Poly Kernel Accuracy: 0.94\n",
            "Rbf Kernel Accuracy: 0.95\n"
          ]
        }
      ]
    },
    {
      "cell_type": "code",
      "source": [
        "#Q38. Write a Python program to train an SVM Classifier using Stratified K-Fold Cross-Validation and compute the average accuracy\n",
        "from sklearn.model_selection import StratifiedKFold, cross_val_score\n",
        "from sklearn.datasets import load_iris\n",
        "from sklearn.svm import SVC\n",
        "\n",
        "# Load data\n",
        "X, y = load_iris(return_X_y=True)\n",
        "\n",
        "# Stratified K-Fold CV\n",
        "skf = StratifiedKFold(n_splits=5, shuffle=True, random_state=42)\n",
        "model = SVC()\n",
        "scores = cross_val_score(model, X, y, cv=skf)\n",
        "\n",
        "print(f\"Cross-validated scores: {scores}\")\n",
        "print(f\"Average Accuracy: {scores.mean():.2f}\")\n"
      ],
      "metadata": {
        "colab": {
          "base_uri": "https://localhost:8080/"
        },
        "id": "7JKOeygtwOLl",
        "outputId": "f830a0d4-e737-4304-ad06-09dd4fe739ad"
      },
      "execution_count": 32,
      "outputs": [
        {
          "output_type": "stream",
          "name": "stdout",
          "text": [
            "Cross-validated scores: [1.         0.96666667 0.93333333 1.         0.93333333]\n",
            "Average Accuracy: 0.97\n"
          ]
        }
      ]
    },
    {
      "cell_type": "code",
      "source": [
        "#Q39. Write a Python program to train a Naïve Bayes classifier using different prior probabilities and compare performance\n",
        "from sklearn.naive_bayes import GaussianNB\n",
        "from sklearn.datasets import load_iris\n",
        "from sklearn.model_selection import train_test_split\n",
        "from sklearn.metrics import accuracy_score\n",
        "\n",
        "# Load data\n",
        "X, y = load_iris(return_X_y=True)\n",
        "\n",
        "# Train-test split\n",
        "X_train, X_test, y_train, y_test = train_test_split(X, y, random_state=42)\n",
        "\n",
        "# Without prior\n",
        "model1 = GaussianNB()\n",
        "model1.fit(X_train, y_train)\n",
        "acc1 = accuracy_score(y_test, model1.predict(X_test))\n",
        "\n",
        "# With uniform prior\n",
        "model2 = GaussianNB(priors=[1/3, 1/3, 1/3])\n",
        "model2.fit(X_train, y_train)\n",
        "acc2 = accuracy_score(y_test, model2.predict(X_test))\n",
        "\n",
        "print(f\"Accuracy without priors: {acc1:.2f}\")\n",
        "print(f\"Accuracy with uniform priors: {acc2:.2f}\")\n"
      ],
      "metadata": {
        "colab": {
          "base_uri": "https://localhost:8080/"
        },
        "id": "t9EdmX_iwOU9",
        "outputId": "cb38ad3e-3155-42da-8bec-bcbdc33766f9"
      },
      "execution_count": 33,
      "outputs": [
        {
          "output_type": "stream",
          "name": "stdout",
          "text": [
            "Accuracy without priors: 1.00\n",
            "Accuracy with uniform priors: 1.00\n"
          ]
        }
      ]
    },
    {
      "cell_type": "code",
      "source": [
        "#Q40. Write a Python program to perform Recursive Feature Elimination (RFE) before training an SVM Classifier and compare accuracy\n",
        "from sklearn.feature_selection import RFE\n",
        "from sklearn.svm import SVC\n",
        "from sklearn.datasets import load_breast_cancer\n",
        "from sklearn.model_selection import train_test_split\n",
        "from sklearn.metrics import accuracy_score\n",
        "\n",
        "# Load data\n",
        "X, y = load_breast_cancer(return_X_y=True)\n",
        "\n",
        "# Split\n",
        "X_train, X_test, y_train, y_test = train_test_split(X, y, random_state=42)\n",
        "\n",
        "# Feature selection\n",
        "svc = SVC(kernel='linear')\n",
        "rfe = RFE(svc, n_features_to_select=10)\n",
        "X_train_rfe = rfe.fit_transform(X_train, y_train)\n",
        "X_test_rfe = rfe.transform(X_test)\n",
        "\n",
        "# Train and evaluate\n",
        "svc.fit(X_train_rfe, y_train)\n",
        "acc = accuracy_score(y_test, svc.predict(X_test_rfe))\n",
        "print(f\"Accuracy after RFE: {acc:.2f}\")\n"
      ],
      "metadata": {
        "colab": {
          "base_uri": "https://localhost:8080/"
        },
        "id": "wUXTyg3XwOeM",
        "outputId": "2265909f-94b8-4d84-f702-a992e16628c6"
      },
      "execution_count": 34,
      "outputs": [
        {
          "output_type": "stream",
          "name": "stdout",
          "text": [
            "Accuracy after RFE: 0.98\n"
          ]
        }
      ]
    },
    {
      "cell_type": "code",
      "source": [
        "#Q41. Write a Python program to train an SVM Classifier and evaluate its performance using Precision, Recall, and F1-Score instead of accuracy\n",
        "from sklearn.datasets import load_breast_cancer\n",
        "from sklearn.model_selection import train_test_split\n",
        "from sklearn.svm import SVC\n",
        "from sklearn.metrics import precision_score, recall_score, f1_score\n",
        "\n",
        "# Load data\n",
        "X, y = load_breast_cancer(return_X_y=True)\n",
        "\n",
        "# Split data\n",
        "X_train, X_test, y_train, y_test = train_test_split(X, y, test_size=0.3, random_state=42)\n",
        "\n",
        "# Train SVM\n",
        "model = SVC()\n",
        "model.fit(X_train, y_train)\n",
        "y_pred = model.predict(X_test)\n",
        "\n",
        "# Evaluate\n",
        "precision = precision_score(y_test, y_pred)\n",
        "recall = recall_score(y_test, y_pred)\n",
        "f1 = f1_score(y_test, y_pred)\n",
        "\n",
        "print(f\"Precision: {precision:.2f}\")\n",
        "print(f\"Recall: {recall:.2f}\")\n",
        "print(f\"F1-Score: {f1:.2f}\")\n"
      ],
      "metadata": {
        "colab": {
          "base_uri": "https://localhost:8080/"
        },
        "id": "AcJjebmlwOoU",
        "outputId": "c85f1ee9-a3dc-439d-92f1-b747762984d6"
      },
      "execution_count": 35,
      "outputs": [
        {
          "output_type": "stream",
          "name": "stdout",
          "text": [
            "Precision: 0.91\n",
            "Recall: 1.00\n",
            "F1-Score: 0.95\n"
          ]
        }
      ]
    },
    {
      "cell_type": "code",
      "source": [
        "#Q42. Write a Python program to train a Naïve Bayes Classifier and evaluate its performance using Log Loss (Cross-Entropy Loss)\n",
        "from sklearn.datasets import load_iris\n",
        "from sklearn.model_selection import train_test_split\n",
        "from sklearn.naive_bayes import GaussianNB\n",
        "from sklearn.metrics import log_loss\n",
        "\n",
        "# Load data\n",
        "X, y = load_iris(return_X_y=True)\n",
        "\n",
        "# Split\n",
        "X_train, X_test, y_train, y_test = train_test_split(X, y, random_state=42)\n",
        "\n",
        "# Train Naive Bayes\n",
        "model = GaussianNB()\n",
        "model.fit(X_train, y_train)\n",
        "y_proba = model.predict_proba(X_test)\n",
        "\n",
        "# Evaluate log loss\n",
        "loss = log_loss(y_test, y_proba)\n",
        "print(f\"Log Loss: {loss:.4f}\")\n"
      ],
      "metadata": {
        "colab": {
          "base_uri": "https://localhost:8080/"
        },
        "id": "6wGOdwCJwOyE",
        "outputId": "6318814f-5fb6-4e07-99be-f5d890f06a34"
      },
      "execution_count": 36,
      "outputs": [
        {
          "output_type": "stream",
          "name": "stdout",
          "text": [
            "Log Loss: 0.0282\n"
          ]
        }
      ]
    },
    {
      "cell_type": "code",
      "source": [
        "#Q43. Write a Python program to train an SVM Classifier and visualize the Confusion Matrix using seaborn\n",
        "import seaborn as sns\n",
        "import matplotlib.pyplot as plt\n",
        "from sklearn.datasets import load_iris\n",
        "from sklearn.model_selection import train_test_split\n",
        "from sklearn.svm import SVC\n",
        "from sklearn.metrics import confusion_matrix\n",
        "\n",
        "# Load data\n",
        "X, y = load_iris(return_X_y=True)\n",
        "\n",
        "# Split\n",
        "X_train, X_test, y_train, y_test = train_test_split(X, y, random_state=42)\n",
        "\n",
        "# Train SVM\n",
        "model = SVC()\n",
        "model.fit(X_train, y_train)\n",
        "y_pred = model.predict(X_test)\n",
        "\n",
        "# Confusion Matrix\n",
        "cm = confusion_matrix(y_test, y_pred)\n",
        "\n",
        "# Plot\n",
        "sns.heatmap(cm, annot=True, fmt='d', cmap='Blues')\n",
        "plt.title(\"Confusion Matrix\")\n",
        "plt.xlabel(\"Predicted\")\n",
        "plt.ylabel(\"Actual\")\n",
        "plt.show()\n"
      ],
      "metadata": {
        "colab": {
          "base_uri": "https://localhost:8080/",
          "height": 472
        },
        "id": "ESFE8Lx0wO9c",
        "outputId": "94113285-f16c-4b28-bdf2-f25fd443bc95"
      },
      "execution_count": 37,
      "outputs": [
        {
          "output_type": "display_data",
          "data": {
            "text/plain": [
              "<Figure size 640x480 with 2 Axes>"
            ],
            "image/png": "[encoded data removed]"
          },
          "metadata": {}
        }
      ]
    },
    {
      "cell_type": "code",
      "source": [
        "#Q44. Write a Python program to train an SVM Regressor (SVR) and evaluate its performance using Mean Absolute Error (MAE) instead of MSE\n",
        "from sklearn.datasets import fetch_california_housing\n",
        "from sklearn.model_selection import train_test_split\n",
        "from sklearn.svm import SVR\n",
        "from sklearn.metrics import mean_absolute_error\n",
        "\n",
        "# Load housing dataset\n",
        "data = fetch_california_housing()\n",
        "X, y = data.data, data.target\n",
        "\n",
        "# Split data\n",
        "X_train, X_test, y_train, y_test = train_test_split(X, y, test_size=0.2, random_state=42)\n",
        "\n",
        "# Train SVR\n",
        "model = SVR()\n",
        "model.fit(X_train, y_train)\n",
        "y_pred = model.predict(X_test)\n",
        "\n",
        "# Evaluate\n",
        "mae = mean_absolute_error(y_test, y_pred)\n",
        "print(f\"Mean Absolute Error: {mae:.2f}\")\n"
      ],
      "metadata": {
        "colab": {
          "base_uri": "https://localhost:8080/"
        },
        "id": "Hol6HZ_6wPIE",
        "outputId": "e2e9928f-c3f3-4728-9dea-1b40273d94f6"
      },
      "execution_count": 38,
      "outputs": [
        {
          "output_type": "stream",
          "name": "stdout",
          "text": [
            "Mean Absolute Error: 0.86\n"
          ]
        }
      ]
    },
    {
      "cell_type": "code",
      "source": [
        "#Q45. Write a Python program to train a Naïve Bayes classifier and evaluate its performance using the ROC-AUC score\n",
        "from sklearn.datasets import load_breast_cancer\n",
        "from sklearn.model_selection import train_test_split\n",
        "from sklearn.naive_bayes import GaussianNB\n",
        "from sklearn.metrics import roc_auc_score\n",
        "\n",
        "# Load data\n",
        "X, y = load_breast_cancer(return_X_y=True)\n",
        "\n",
        "# Split\n",
        "X_train, X_test, y_train, y_test = train_test_split(X, y, random_state=42)\n",
        "\n",
        "# Train model\n",
        "model = GaussianNB()\n",
        "model.fit(X_train, y_train)\n",
        "y_proba = model.predict_proba(X_test)[:, 1]\n",
        "\n",
        "# Evaluate ROC-AUC\n",
        "roc_auc = roc_auc_score(y_test, y_proba)\n",
        "print(f\"ROC-AUC Score: {roc_auc:.2f}\")\n"
      ],
      "metadata": {
        "colab": {
          "base_uri": "https://localhost:8080/"
        },
        "id": "2OCmt5P7wPRy",
        "outputId": "06655048-9729-4a27-c989-6db514d94a29"
      },
      "execution_count": 39,
      "outputs": [
        {
          "output_type": "stream",
          "name": "stdout",
          "text": [
            "ROC-AUC Score: 0.99\n"
          ]
        }
      ]
    },
    {
      "cell_type": "code",
      "source": [
        "#Q46. Write a Python program to train an SVM Classifier and visualize the Precision-Recall Curve\n",
        "from sklearn.datasets import load_breast_cancer\n",
        "from sklearn.model_selection import train_test_split\n",
        "from sklearn.svm import SVC\n",
        "from sklearn.metrics import precision_recall_curve\n",
        "import matplotlib.pyplot as plt\n",
        "\n",
        "# Load data\n",
        "X, y = load_breast_cancer(return_X_y=True)\n",
        "\n",
        "# Split\n",
        "X_train, X_test, y_train, y_test = train_test_split(X, y, random_state=42)\n",
        "\n",
        "# Train SVM with probability enabled\n",
        "model = SVC(probability=True)\n",
        "model.fit(X_train, y_train)\n",
        "y_scores = model.predict_proba(X_test)[:, 1]\n",
        "\n",
        "# Precision-Recall Curve\n",
        "precision, recall, _ = precision_recall_curve(y_test, y_scores)\n",
        "\n",
        "# Plot\n",
        "plt.plot(recall, precision, marker='.')\n",
        "plt.xlabel(\"Recall\")\n",
        "plt.ylabel(\"Precision\")\n",
        "plt.title(\"Precision-Recall Curve\")\n",
        "plt.grid(True)\n",
        "plt.show()\n"
      ],
      "metadata": {
        "colab": {
          "base_uri": "https://localhost:8080/",
          "height": 472
        },
        "id": "kITKBQ1dwPb0",
        "outputId": "8b534021-79db-4eac-ec7f-7f196a60fed2"
      },
      "execution_count": 40,
      "outputs": [
        {
          "output_type": "display_data",
          "data": {
            "text/plain": [
              "<Figure size 640x480 with 1 Axes>"
            ],
            "image/png": "[encoded data removed]"
          },
          "metadata": {}
        }
      ]
    }
  ]
}